{
  "cells": [
    {
      "cell_type": "markdown",
      "id": "ff9b582a",
      "metadata": {
        "id": "ff9b582a"
      },
      "source": [
        "Logistic Regression Implementation"
      ]
    },
    {
      "cell_type": "code",
      "execution_count": 1,
      "id": "992e526b",
      "metadata": {
        "id": "992e526b"
      },
      "outputs": [],
      "source": [
        "import numpy as np\n",
        "import pandas as pd"
      ]
    },
    {
      "cell_type": "code",
      "execution_count": 2,
      "id": "83876c5a",
      "metadata": {
        "id": "83876c5a"
      },
      "outputs": [],
      "source": [
        "# load in the data files\n",
        "\n",
        "train_data = pd.read_csv(\"train.csv\")\n",
        "test_data = pd.read_csv(\"test.csv\")"
      ]
    },
    {
      "cell_type": "code",
      "source": [
        "# obtain the shape of the training set\n",
        "train_data.shape"
      ],
      "metadata": {
        "colab": {
          "base_uri": "https://localhost:8080/"
        },
        "id": "KQJn8pgeB7px",
        "outputId": "67242217-49e7-4973-ef9e-869860fc7ea5"
      },
      "id": "KQJn8pgeB7px",
      "execution_count": 3,
      "outputs": [
        {
          "output_type": "execute_result",
          "data": {
            "text/plain": [
              "(32950, 53)"
            ]
          },
          "metadata": {},
          "execution_count": 3
        }
      ]
    },
    {
      "cell_type": "code",
      "source": [
        "# obtain the shape of the training set\n",
        "test_data.shape"
      ],
      "metadata": {
        "colab": {
          "base_uri": "https://localhost:8080/"
        },
        "id": "HX1WbdC8B-nL",
        "outputId": "f49b4729-bf4d-4431-f2f5-040007db82ae"
      },
      "id": "HX1WbdC8B-nL",
      "execution_count": 4,
      "outputs": [
        {
          "output_type": "execute_result",
          "data": {
            "text/plain": [
              "(8238, 53)"
            ]
          },
          "metadata": {},
          "execution_count": 4
        }
      ]
    },
    {
      "cell_type": "markdown",
      "id": "e4aff453",
      "metadata": {
        "id": "e4aff453"
      },
      "source": [
        "**test on the full data**"
      ]
    },
    {
      "cell_type": "code",
      "execution_count": 5,
      "id": "f6ea5f44",
      "metadata": {
        "id": "f6ea5f44"
      },
      "outputs": [],
      "source": [
        "# obtain the x and y subsets\n",
        "y_train_pre = train_data[\"y\"]\n",
        "y_test_pre = test_data[\"y\"]\n",
        "\n",
        "X_train = train_data.iloc[:,3:52]\n",
        "X_test = test_data.iloc[:,3:52]"
      ]
    },
    {
      "cell_type": "code",
      "execution_count": 6,
      "id": "0aaaa028",
      "metadata": {
        "scrolled": false,
        "id": "0aaaa028",
        "outputId": "f94730f4-58ee-483f-82f5-214f35f3c049",
        "colab": {
          "base_uri": "https://localhost:8080/"
        }
      },
      "outputs": [
        {
          "output_type": "stream",
          "name": "stderr",
          "text": [
            "<ipython-input-6-7d2d612a8258>:6: SettingWithCopyWarning: \n",
            "A value is trying to be set on a copy of a slice from a DataFrame\n",
            "\n",
            "See the caveats in the documentation: https://pandas.pydata.org/pandas-docs/stable/user_guide/indexing.html#returning-a-view-versus-a-copy\n",
            "  y_test[y_test_pre==\"yes\"] = 1\n",
            "<ipython-input-6-7d2d612a8258>:7: SettingWithCopyWarning: \n",
            "A value is trying to be set on a copy of a slice from a DataFrame\n",
            "\n",
            "See the caveats in the documentation: https://pandas.pydata.org/pandas-docs/stable/user_guide/indexing.html#returning-a-view-versus-a-copy\n",
            "  y_test[y_test_pre==\"no\"] = 0\n"
          ]
        },
        {
          "output_type": "execute_result",
          "data": {
            "text/plain": [
              "0       0\n",
              "1       0\n",
              "2       0\n",
              "3       0\n",
              "4       0\n",
              "       ..\n",
              "8233    0\n",
              "8234    0\n",
              "8235    0\n",
              "8236    0\n",
              "8237    0\n",
              "Name: y, Length: 8238, dtype: int32"
            ]
          },
          "metadata": {},
          "execution_count": 6
        }
      ],
      "source": [
        "# update the data type of the y to int\n",
        "# 0 - no\n",
        "# 1 - yes\n",
        "\n",
        "y_test = y_test_pre\n",
        "y_test[y_test_pre==\"yes\"] = 1\n",
        "y_test[y_test_pre==\"no\"] = 0\n",
        "y_test = y_test_pre.astype(\"int32\")\n",
        "y_test"
      ]
    },
    {
      "cell_type": "code",
      "execution_count": 7,
      "id": "7e5257c4",
      "metadata": {
        "id": "7e5257c4",
        "outputId": "82636a85-fedb-482a-a2df-7a05c9ba577b",
        "colab": {
          "base_uri": "https://localhost:8080/"
        }
      },
      "outputs": [
        {
          "output_type": "stream",
          "name": "stderr",
          "text": [
            "<ipython-input-7-945b454eab67>:4: SettingWithCopyWarning: \n",
            "A value is trying to be set on a copy of a slice from a DataFrame\n",
            "\n",
            "See the caveats in the documentation: https://pandas.pydata.org/pandas-docs/stable/user_guide/indexing.html#returning-a-view-versus-a-copy\n",
            "  y_train[y_train_pre==\"yes\"] = 1\n",
            "<ipython-input-7-945b454eab67>:5: SettingWithCopyWarning: \n",
            "A value is trying to be set on a copy of a slice from a DataFrame\n",
            "\n",
            "See the caveats in the documentation: https://pandas.pydata.org/pandas-docs/stable/user_guide/indexing.html#returning-a-view-versus-a-copy\n",
            "  y_train[y_train_pre==\"no\"] = 0\n"
          ]
        }
      ],
      "source": [
        "# update the data type of the y to int\n",
        "\n",
        "y_train = y_train_pre\n",
        "y_train[y_train_pre==\"yes\"] = 1\n",
        "y_train[y_train_pre==\"no\"] = 0\n",
        "y_train = y_train.astype(\"int32\")\n"
      ]
    },
    {
      "cell_type": "markdown",
      "id": "8d6782ba",
      "metadata": {
        "id": "8d6782ba"
      },
      "source": [
        "**Fitting Logistic Regressing using All Features**"
      ]
    },
    {
      "cell_type": "code",
      "execution_count": 8,
      "id": "df4630b6",
      "metadata": {
        "id": "df4630b6",
        "outputId": "78d9bde8-4cad-417c-a47e-1a60cdc844b9",
        "colab": {
          "base_uri": "https://localhost:8080/",
          "height": 74
        }
      },
      "outputs": [
        {
          "output_type": "execute_result",
          "data": {
            "text/plain": [
              "LogisticRegression(max_iter=500)"
            ],
            "text/html": [
              "<style>#sk-container-id-1 {color: black;background-color: white;}#sk-container-id-1 pre{padding: 0;}#sk-container-id-1 div.sk-toggleable {background-color: white;}#sk-container-id-1 label.sk-toggleable__label {cursor: pointer;display: block;width: 100%;margin-bottom: 0;padding: 0.3em;box-sizing: border-box;text-align: center;}#sk-container-id-1 label.sk-toggleable__label-arrow:before {content: \"▸\";float: left;margin-right: 0.25em;color: #696969;}#sk-container-id-1 label.sk-toggleable__label-arrow:hover:before {color: black;}#sk-container-id-1 div.sk-estimator:hover label.sk-toggleable__label-arrow:before {color: black;}#sk-container-id-1 div.sk-toggleable__content {max-height: 0;max-width: 0;overflow: hidden;text-align: left;background-color: #f0f8ff;}#sk-container-id-1 div.sk-toggleable__content pre {margin: 0.2em;color: black;border-radius: 0.25em;background-color: #f0f8ff;}#sk-container-id-1 input.sk-toggleable__control:checked~div.sk-toggleable__content {max-height: 200px;max-width: 100%;overflow: auto;}#sk-container-id-1 input.sk-toggleable__control:checked~label.sk-toggleable__label-arrow:before {content: \"▾\";}#sk-container-id-1 div.sk-estimator input.sk-toggleable__control:checked~label.sk-toggleable__label {background-color: #d4ebff;}#sk-container-id-1 div.sk-label input.sk-toggleable__control:checked~label.sk-toggleable__label {background-color: #d4ebff;}#sk-container-id-1 input.sk-hidden--visually {border: 0;clip: rect(1px 1px 1px 1px);clip: rect(1px, 1px, 1px, 1px);height: 1px;margin: -1px;overflow: hidden;padding: 0;position: absolute;width: 1px;}#sk-container-id-1 div.sk-estimator {font-family: monospace;background-color: #f0f8ff;border: 1px dotted black;border-radius: 0.25em;box-sizing: border-box;margin-bottom: 0.5em;}#sk-container-id-1 div.sk-estimator:hover {background-color: #d4ebff;}#sk-container-id-1 div.sk-parallel-item::after {content: \"\";width: 100%;border-bottom: 1px solid gray;flex-grow: 1;}#sk-container-id-1 div.sk-label:hover label.sk-toggleable__label {background-color: #d4ebff;}#sk-container-id-1 div.sk-serial::before {content: \"\";position: absolute;border-left: 1px solid gray;box-sizing: border-box;top: 0;bottom: 0;left: 50%;z-index: 0;}#sk-container-id-1 div.sk-serial {display: flex;flex-direction: column;align-items: center;background-color: white;padding-right: 0.2em;padding-left: 0.2em;position: relative;}#sk-container-id-1 div.sk-item {position: relative;z-index: 1;}#sk-container-id-1 div.sk-parallel {display: flex;align-items: stretch;justify-content: center;background-color: white;position: relative;}#sk-container-id-1 div.sk-item::before, #sk-container-id-1 div.sk-parallel-item::before {content: \"\";position: absolute;border-left: 1px solid gray;box-sizing: border-box;top: 0;bottom: 0;left: 50%;z-index: -1;}#sk-container-id-1 div.sk-parallel-item {display: flex;flex-direction: column;z-index: 1;position: relative;background-color: white;}#sk-container-id-1 div.sk-parallel-item:first-child::after {align-self: flex-end;width: 50%;}#sk-container-id-1 div.sk-parallel-item:last-child::after {align-self: flex-start;width: 50%;}#sk-container-id-1 div.sk-parallel-item:only-child::after {width: 0;}#sk-container-id-1 div.sk-dashed-wrapped {border: 1px dashed gray;margin: 0 0.4em 0.5em 0.4em;box-sizing: border-box;padding-bottom: 0.4em;background-color: white;}#sk-container-id-1 div.sk-label label {font-family: monospace;font-weight: bold;display: inline-block;line-height: 1.2em;}#sk-container-id-1 div.sk-label-container {text-align: center;}#sk-container-id-1 div.sk-container {/* jupyter's `normalize.less` sets `[hidden] { display: none; }` but bootstrap.min.css set `[hidden] { display: none !important; }` so we also need the `!important` here to be able to override the default hidden behavior on the sphinx rendered scikit-learn.org. See: https://github.com/scikit-learn/scikit-learn/issues/21755 */display: inline-block !important;position: relative;}#sk-container-id-1 div.sk-text-repr-fallback {display: none;}</style><div id=\"sk-container-id-1\" class=\"sk-top-container\"><div class=\"sk-text-repr-fallback\"><pre>LogisticRegression(max_iter=500)</pre><b>In a Jupyter environment, please rerun this cell to show the HTML representation or trust the notebook. <br />On GitHub, the HTML representation is unable to render, please try loading this page with nbviewer.org.</b></div><div class=\"sk-container\" hidden><div class=\"sk-item\"><div class=\"sk-estimator sk-toggleable\"><input class=\"sk-toggleable__control sk-hidden--visually\" id=\"sk-estimator-id-1\" type=\"checkbox\" checked><label for=\"sk-estimator-id-1\" class=\"sk-toggleable__label sk-toggleable__label-arrow\">LogisticRegression</label><div class=\"sk-toggleable__content\"><pre>LogisticRegression(max_iter=500)</pre></div></div></div></div></div>"
            ]
          },
          "metadata": {},
          "execution_count": 8
        }
      ],
      "source": [
        "# apply logistic regression to the train subsets\n",
        "from sklearn.linear_model import LogisticRegression\n",
        "\n",
        "log_model = LogisticRegression(penalty='l2',  max_iter=500)\n",
        "log_model.fit(X_train,y_train)"
      ]
    },
    {
      "cell_type": "code",
      "execution_count": 9,
      "id": "bd04995a",
      "metadata": {
        "id": "bd04995a"
      },
      "outputs": [],
      "source": [
        "yhat = log_model.predict(X_test)"
      ]
    },
    {
      "cell_type": "code",
      "execution_count": 10,
      "id": "8c9b9dfe",
      "metadata": {
        "scrolled": true,
        "id": "8c9b9dfe",
        "outputId": "7d1db019-ec63-453b-89bf-58dd127322ea",
        "colab": {
          "base_uri": "https://localhost:8080/"
        }
      },
      "outputs": [
        {
          "output_type": "execute_result",
          "data": {
            "text/plain": [
              "0.896698227725176"
            ]
          },
          "metadata": {},
          "execution_count": 10
        }
      ],
      "source": [
        "# obtain the classification rate for the full model\n",
        "np.mean(yhat==y_test)"
      ]
    },
    {
      "cell_type": "code",
      "execution_count": 11,
      "id": "3cb6edb5",
      "metadata": {
        "id": "3cb6edb5",
        "outputId": "0339ead6-7707-48ef-e993-8a59ca7bd17c",
        "colab": {
          "base_uri": "https://localhost:8080/",
          "height": 489
        }
      },
      "outputs": [
        {
          "output_type": "stream",
          "name": "stdout",
          "text": [
            "0.7943383708136013\n"
          ]
        },
        {
          "output_type": "display_data",
          "data": {
            "text/plain": [
              "<Figure size 640x480 with 1 Axes>"
            ],
            "image/png": "[encoded data removed]"
          },
          "metadata": {}
        }
      ],
      "source": [
        "# obtain the ROC curve for the full model and AUC\n",
        "from sklearn.metrics import roc_curve, auc\n",
        "import matplotlib.pyplot as plt\n",
        "\n",
        "y_scores = log_model.decision_function(X_test)\n",
        "fpr, tpr, thresholds = roc_curve(y_test, y_scores)\n",
        "\n",
        "# plot the ROC curve\n",
        "plt.plot(fpr, tpr)\n",
        "plt.xlim([-0.01, 1.0])\n",
        "plt.ylim([0.0, 1.05])\n",
        "plt.xlabel('False Positive Rate (FPR)')\n",
        "plt.ylabel('True Positive Rate (TPR)')\n",
        "plt.title('Logistic Regression: ROC Curve')\n",
        "print(auc(fpr, tpr))"
      ]
    },
    {
      "cell_type": "markdown",
      "source": [
        "**Fitting Logistic Regressing using Subset Selection**"
      ],
      "metadata": {
        "id": "A86bUvKgPLmB"
      },
      "id": "A86bUvKgPLmB"
    },
    {
      "cell_type": "code",
      "execution_count": 12,
      "id": "31c831ce",
      "metadata": {
        "id": "31c831ce"
      },
      "outputs": [],
      "source": [
        "from sklearn.feature_selection import SequentialFeatureSelector"
      ]
    },
    {
      "cell_type": "code",
      "execution_count": 13,
      "id": "2785bbdd",
      "metadata": {
        "scrolled": true,
        "id": "2785bbdd",
        "outputId": "52e70bf0-bcdc-4bd9-c339-dd9f9ef259f7",
        "colab": {
          "base_uri": "https://localhost:8080/"
        }
      },
      "outputs": [
        {
          "output_type": "execute_result",
          "data": {
            "text/plain": [
              "array(['poutcome[T.nonexistent]', 'poutcome[T.success]',\n",
              "       'contact[T.telephone]', 'job[T.blue-collar]', 'job[T.retired]',\n",
              "       'job[T.student]', 'marital[T.single]',\n",
              "       'pdays[T.client WAS previously contacted]', 'month[T.dec]',\n",
              "       'month[T.mar]', 'month[T.may]', 'month[T.oct]', 'month[T.sep]',\n",
              "       'education[T.basic.9y]', 'education[T.university.degree]'],\n",
              "      dtype=object)"
            ]
          },
          "metadata": {},
          "execution_count": 13
        }
      ],
      "source": [
        "# perform subset selection on the categorical predictors\n",
        "from sklearn.feature_selection import SelectKBest, chi2\n",
        "\n",
        "X_train_new_cate = SelectKBest(chi2, k=15).fit(X_train.iloc[:,0:42], y_train)\n",
        "\n",
        "X_train_new_cate.get_feature_names_out()"
      ]
    },
    {
      "cell_type": "code",
      "execution_count": 14,
      "id": "f0a1c921",
      "metadata": {
        "scrolled": false,
        "id": "f0a1c921",
        "outputId": "bb0f9d70-e1ff-4b5b-b21d-3d69d99aeef4",
        "colab": {
          "base_uri": "https://localhost:8080/"
        }
      },
      "outputs": [
        {
          "output_type": "execute_result",
          "data": {
            "text/plain": [
              "array(['cons_price_idx', 'euribor3m', 'cons_conf_idx'], dtype=object)"
            ]
          },
          "metadata": {},
          "execution_count": 14
        }
      ],
      "source": [
        "# perform subset selection on the quantitative predictors\n",
        "from sklearn.feature_selection import f_regression, mutual_info_classif\n",
        "\n",
        "X_train_new_quant = SelectKBest(mutual_info_classif, k=3).fit(X_train.iloc[:,42::], y_train)\n",
        "\n",
        "\n",
        "X_train_new_quant.get_feature_names_out()"
      ]
    },
    {
      "cell_type": "code",
      "execution_count": 15,
      "id": "130d7702",
      "metadata": {
        "id": "130d7702",
        "outputId": "ad8c9ad2-f976-4fd8-c434-813fc82f9a87",
        "colab": {
          "base_uri": "https://localhost:8080/"
        }
      },
      "outputs": [
        {
          "output_type": "execute_result",
          "data": {
            "text/plain": [
              "0.8971837824714737"
            ]
          },
          "metadata": {},
          "execution_count": 15
        }
      ],
      "source": [
        "# obtain the subsetted variable names\n",
        "\n",
        "subsetted_features = np.hstack((X_train_new_cate.get_feature_names_out(), X_train_new_quant.get_feature_names_out()))\n",
        "X_train_best = X_train[subsetted_features]\n",
        "X_test_best = X_test[subsetted_features]\n",
        "\n",
        "\n",
        "# apply the model on these features\n",
        "\n",
        "log_model_reduced = LogisticRegression(penalty='l2',  max_iter=500)\n",
        "log_model_reduced.fit(X_train_best,y_train)\n",
        "\n",
        "yhat_reduced = log_model_reduced.predict(X_test_best)\n",
        "yhat_reduced\n",
        "\n",
        "# obtain the classification rate for the reduced model\n",
        "np.mean(yhat_reduced==y_test)"
      ]
    },
    {
      "cell_type": "code",
      "execution_count": 16,
      "id": "a7efd7f2",
      "metadata": {
        "scrolled": true,
        "id": "a7efd7f2",
        "outputId": "d6c4768e-8192-4914-e6d2-967707a3c428",
        "colab": {
          "base_uri": "https://localhost:8080/",
          "height": 489
        }
      },
      "outputs": [
        {
          "output_type": "stream",
          "name": "stdout",
          "text": [
            "0.785931837736467\n"
          ]
        },
        {
          "output_type": "display_data",
          "data": {
            "text/plain": [
              "<Figure size 640x480 with 1 Axes>"
            ],
            "image/png": "[encoded data removed]"
          },
          "metadata": {}
        }
      ],
      "source": [
        "# obtain the ROC curve for the reduced model\n",
        "from sklearn.metrics import roc_curve, auc\n",
        "import matplotlib.pyplot as plt\n",
        "\n",
        "y_scores = log_model_reduced.decision_function(X_test_best)\n",
        "fpr, tpr, thresholds = roc_curve(y_test, y_scores)\n",
        "\n",
        "# plot the ROC curve\n",
        "plt.plot(fpr, tpr)\n",
        "plt.xlim([-0.01, 1.0])\n",
        "plt.ylim([0.0, 1.05])\n",
        "plt.xlabel('False Positive Rate (FPR)')\n",
        "plt.ylabel('True Positive Rate (TPR)')\n",
        "plt.title('Logistic Regression: ROC Curve')\n",
        "print(auc(fpr, tpr))"
      ]
    },
    {
      "cell_type": "markdown",
      "source": [
        "**Additional Classification Metrics under Both Models**"
      ],
      "metadata": {
        "id": "hHdqUorzPP9H"
      },
      "id": "hHdqUorzPP9H"
    },
    {
      "cell_type": "code",
      "execution_count": 17,
      "id": "ef98d7d1",
      "metadata": {
        "scrolled": true,
        "id": "ef98d7d1",
        "outputId": "5630b621-8a0e-418f-8f21-6b2769c41cea",
        "colab": {
          "base_uri": "https://localhost:8080/",
          "height": 449
        }
      },
      "outputs": [
        {
          "output_type": "display_data",
          "data": {
            "text/plain": [
              "<Figure size 640x480 with 2 Axes>"
            ],
            "image/png": "[encoded data removed]"
          },
          "metadata": {}
        }
      ],
      "source": [
        "# display the conf. matrix for the reduced model\n",
        "from sklearn.metrics import confusion_matrix, ConfusionMatrixDisplay\n",
        "\n",
        "cm_reduced = confusion_matrix(y_test, yhat_reduced)\n",
        "disp = ConfusionMatrixDisplay(confusion_matrix=cm_reduced)\n",
        "disp.plot()\n",
        "plt.show()"
      ]
    },
    {
      "cell_type": "code",
      "execution_count": 18,
      "id": "fc8e5eb9",
      "metadata": {
        "scrolled": true,
        "id": "fc8e5eb9",
        "outputId": "a147a218-73f4-4048-bfd2-14c657fac06c",
        "colab": {
          "base_uri": "https://localhost:8080/",
          "height": 449
        }
      },
      "outputs": [
        {
          "output_type": "display_data",
          "data": {
            "text/plain": [
              "<Figure size 640x480 with 2 Axes>"
            ],
            "image/png": "[encoded data removed]"
          },
          "metadata": {}
        }
      ],
      "source": [
        "# display the conf. matrix for the full model\n",
        "cm = confusion_matrix(y_test, yhat)\n",
        "disp = ConfusionMatrixDisplay(confusion_matrix=cm)\n",
        "disp.plot()\n",
        "plt.show()"
      ]
    },
    {
      "cell_type": "code",
      "source": [
        "# calculate the sensitivity metrics for the model with 10 predictors\n",
        "TP_reduced = cm_reduced[1,1]\n",
        "FP_reduced = cm_reduced[0,1]\n",
        "FN_reduced = cm_reduced[1,0]\n",
        "TN_reduced = cm_reduced[0,0]\n",
        "\n",
        "sens_reduced = TP_reduced /(TP_reduced+FN_reduced)\n",
        "print(\"The sensitivity is, \", sens_reduced)\n",
        "\n",
        "spec_reduced = TN_reduced /(TN_reduced+FP_reduced)\n",
        "print(\"The specificity is, \", spec_reduced)\n",
        "\n",
        "precision_reduced = TP_reduced /(TP_reduced+FP_reduced)\n",
        "print(\"The precision is, \", precision_reduced)\n",
        "\n",
        "f1_reduced = (2*precision_reduced*sens_reduced)/(precision_reduced+sens_reduced)\n",
        "print(\"The f1 score is, \", f1_reduced)"
      ],
      "metadata": {
        "colab": {
          "base_uri": "https://localhost:8080/"
        },
        "id": "Ha4FZXZ0gnyn",
        "outputId": "feb69fdb-7108-447e-f3a8-3763172d2741"
      },
      "id": "Ha4FZXZ0gnyn",
      "execution_count": 19,
      "outputs": [
        {
          "output_type": "stream",
          "name": "stdout",
          "text": [
            "The sensitivity is,  0.22794117647058823\n",
            "The specificity is,  0.9846280538018117\n",
            "The precision is,  0.6595744680851063\n",
            "The f1 score is,  0.33879781420765026\n"
          ]
        }
      ]
    },
    {
      "cell_type": "code",
      "source": [
        "# calculate the sensitivity metrics for the model with all predictors\n",
        "TP = cm[1,1]\n",
        "FP = cm[0,1]\n",
        "FN = cm[1,0]\n",
        "TN = cm[0,0]\n",
        "\n",
        "sens = TP /(TP+FN)\n",
        "print(\"The sensitivity is, \", sens)\n",
        "\n",
        "spec = TN /(TN+FP)\n",
        "print(\"The specificity is, \", spec)\n",
        "\n",
        "precision = TP /(TP+FP)\n",
        "print(\"The precision is, \", precision)\n",
        "\n",
        "f1 = (2*precision*sens)/(precision+sens)\n",
        "print(\"The f1 score is, \", f1)"
      ],
      "metadata": {
        "colab": {
          "base_uri": "https://localhost:8080/"
        },
        "id": "OcxePftMiQHY",
        "outputId": "337df5bf-7a40-4612-f6e6-3d62acfab6cc"
      },
      "id": "OcxePftMiQHY",
      "execution_count": 20,
      "outputs": [
        {
          "output_type": "stream",
          "name": "stdout",
          "text": [
            "The sensitivity is,  0.22584033613445378\n",
            "The specificity is,  0.9843535547625584\n",
            "The precision is,  0.6534954407294833\n",
            "The f1 score is,  0.3356752537080406\n"
          ]
        }
      ]
    }
  ],
  "metadata": {
    "kernelspec": {
      "display_name": "Python 3 (ipykernel)",
      "language": "python",
      "name": "python3"
    },
    "language_info": {
      "codemirror_mode": {
        "name": "ipython",
        "version": 3
      },
      "file_extension": ".py",
      "mimetype": "text/x-python",
      "name": "python",
      "nbconvert_exporter": "python",
      "pygments_lexer": "ipython3",
      "version": "3.10.9"
    },
    "colab": {
      "provenance": []
    }
  },
  "nbformat": 4,
  "nbformat_minor": 5
}