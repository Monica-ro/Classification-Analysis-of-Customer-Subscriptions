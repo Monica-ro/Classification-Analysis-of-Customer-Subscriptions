{
 "cells": [
  {
   "cell_type": "code",
   "execution_count": 1,
   "id": "12f98369",
   "metadata": {},
   "outputs": [
    {
     "name": "stderr",
     "output_type": "stream",
     "text": [
      "Intel(R) Extension for Scikit-learn* enabled (https://github.com/intel/scikit-learn-intelex)\n"
     ]
    }
   ],
   "source": [
    "import numpy as np\n",
    "import pandas as pd\n",
    "from sklearn import linear_model, preprocessing\n",
    "from sklearnex import patch_sklearn\n",
    "patch_sklearn()\n",
    "from patsy import dmatrices, dmatrix\n",
    "import copy\n",
    "import re\n",
    "from sklearn.preprocessing import StandardScaler\n",
    "from sklearn.compose import ColumnTransformer\n",
    "from sklearn.preprocessing import StandardScaler\n",
    "from sklearn.preprocessing import OneHotEncoder"
   ]
  },
  {
   "cell_type": "markdown",
   "id": "15c3bb15",
   "metadata": {},
   "source": [
    "### Data Cleaning"
   ]
  },
  {
   "cell_type": "code",
   "execution_count": 4,
   "id": "88e96e9c",
   "metadata": {},
   "outputs": [],
   "source": [
    "data = pd.read_csv('C:/Users/Chris Li/Documents/UC Davis/STA 208/Data/bank-additional/bank-additional-full.csv', sep = ';') \n",
    "\n",
    "# replace dots with underscores in variable names, to make compatible with patsy\n",
    "data.columns = list(map(lambda x: re.sub(r\"\\.\", \"_\", x), data.columns))\n",
    "\n",
    "# change pdays variable to binary, to deal with 999 issue\n",
    "data['pdays'] = np.where(data['pdays']==999, \"client NOT previously contacted\", \"client WAS previously contacted\")\n",
    "\n",
    "# drop duration and default. drop duration as recommended by UCI. drop default because answer is very rarely yes\n",
    "data = data.drop(columns=['default', 'duration'])"
   ]
  },
  {
   "cell_type": "code",
   "execution_count": 5,
   "id": "7b96b008",
   "metadata": {},
   "outputs": [],
   "source": [
    "# identify quantitative vars\n",
    "datatypes = pd.DataFrame(data.dtypes)\n",
    "datatypes = datatypes[datatypes.apply(lambda x: (x[0] == \"float64\" or x[0] == \"int64\"), axis=1)].reset_index()\n",
    "quant_vars = datatypes.iloc[:,0].tolist()\n"
   ]
  },
  {
   "cell_type": "code",
   "execution_count": 6,
   "id": "71bd7553",
   "metadata": {},
   "outputs": [],
   "source": [
    "# standardize quant vars\n",
    "non_quant_vars = list(set(data.columns) - set(quant_vars))\n",
    "\n",
    "stand = ColumnTransformer(\n",
    "     [(\"num\", StandardScaler(), quant_vars),\n",
    "     ('pass', 'passthrough',non_quant_vars)])\n",
    "stand.fit(data)\n",
    "\n",
    "# need to add back data types\n",
    "data_stand = pd.DataFrame(stand.transform(data), columns = quant_vars + non_quant_vars).convert_dtypes()\n",
    "\n",
    "# change uppercase float64 to lowercase\n",
    "float64_cols = list(data_stand.select_dtypes(include='Float64'))\n",
    "data_stand[float64_cols] = data_stand[float64_cols].astype('float64')\n",
    "\n",
    "string_cols = list(data_stand.select_dtypes(include='string'))\n",
    "data_stand[string_cols] = data_stand[string_cols].astype('object')\n"
   ]
  },
  {
   "cell_type": "code",
   "execution_count": 7,
   "id": "2a2ccaba",
   "metadata": {},
   "outputs": [],
   "source": [
    "# train test split\n",
    "from sklearn.model_selection import train_test_split\n",
    "train_cat,test_cat = train_test_split(data_stand, test_size = 0.2, train_size = 0.8, random_state = 22)"
   ]
  },
  {
   "cell_type": "markdown",
   "id": "381443b8",
   "metadata": {},
   "source": [
    "Output Clenaed Dataset with Categorical Vairables Left as String Columns"
   ]
  },
  {
   "cell_type": "code",
   "execution_count": 8,
   "id": "32e6996a",
   "metadata": {},
   "outputs": [],
   "source": [
    "train_cat.to_csv('C:/Users/Chris Li/Documents/UC Davis/STA 208/Data/train_categ_vars_one_column.csv')\n",
    "test_cat.to_csv('C:/Users/Chris Li/Documents/UC Davis/STA 208/Data/test_categ_vars_one_column.csv')"
   ]
  },
  {
   "cell_type": "markdown",
   "id": "7312e3c6",
   "metadata": {},
   "source": [
    "### Make Design matrix, dummy variable style, for logistic regression"
   ]
  },
  {
   "cell_type": "code",
   "execution_count": 10,
   "id": "5b4d4a25",
   "metadata": {},
   "outputs": [
    {
     "name": "stderr",
     "output_type": "stream",
     "text": [
      "C:\\Users\\Chris Li\\AppData\\Local\\Temp\\ipykernel_20888\\1720498214.py:2: FutureWarning: Passing a set as an indexer is deprecated and will raise in a future version. Use a list instead.\n",
      "  x_cols = data_stand.loc[:, set(data_stand.columns) - set(['y'])].columns.tolist()\n"
     ]
    },
    {
     "data": {
      "text/plain": [
       "'housing + emp_var_rate + marital + euribor3m + age + poutcome + contact + day_of_week + cons_price_idx + loan + nr_employed + previous + education + cons_conf_idx + pdays + campaign + job + month'"
      ]
     },
     "execution_count": 10,
     "metadata": {},
     "output_type": "execute_result"
    }
   ],
   "source": [
    "\n",
    "# make equation of Xs for patsy\n",
    "x_cols = data_stand.loc[:, set(data_stand.columns) - set(['y'])].columns.tolist()\n",
    "x_eq = ' + '.join(x_cols)\n",
    "x_eq"
   ]
  },
  {
   "cell_type": "code",
   "execution_count": 11,
   "id": "5b69ba02",
   "metadata": {},
   "outputs": [],
   "source": [
    "# make numpy design matrix for patsy\n",
    "x_temp = copy.copy(data_stand)\n",
    "x = dmatrix(x_eq, x_temp, return_type = 'dataframe')\n",
    "\n",
    "final_data = pd.concat([data_stand['y'],x], axis = 1)"
   ]
  },
  {
   "cell_type": "code",
   "execution_count": 12,
   "id": "11561cc7",
   "metadata": {},
   "outputs": [],
   "source": [
    "# train test split\n",
    "from sklearn.model_selection import train_test_split\n",
    "train,test = train_test_split(final_data, test_size = 0.2, train_size = 0.8, random_state = 22)"
   ]
  },
  {
   "cell_type": "markdown",
   "id": "fbad1813",
   "metadata": {},
   "source": [
    "Output Data Formatted as Design Matrix"
   ]
  },
  {
   "cell_type": "code",
   "execution_count": 14,
   "id": "9ee12b71",
   "metadata": {},
   "outputs": [],
   "source": [
    "train.to_csv('C:/Users/Chris Li/Documents/UC Davis/STA 208/Data/train.csv')"
   ]
  },
  {
   "cell_type": "code",
   "execution_count": 15,
   "id": "4d2bb740",
   "metadata": {},
   "outputs": [],
   "source": [
    "test.to_csv('C:/Users/Chris Li/Documents/UC Davis/STA 208/Data/test.csv')"
   ]
  },
  {
   "cell_type": "markdown",
   "id": "c0d6fa63",
   "metadata": {},
   "source": [
    "### Make Cleaned Dataset where Categorical Variables are One Hot Encoded"
   ]
  },
  {
   "cell_type": "code",
   "execution_count": 16,
   "id": "b4e865d1",
   "metadata": {},
   "outputs": [],
   "source": [
    "# start with standardized data\n",
    "\n",
    "# select categorical columns\n",
    "\n",
    "cat_data = copy.copy(data_stand[list(set(non_quant_vars) - set(['y']))])\n",
    "num_data = copy.copy(data_stand[quant_vars])\n",
    "\n",
    "cat_columns = copy.copy(cat_data.columns + \"_var\")\n",
    "og_cat_cols = cat_data.columns\n",
    "for col in og_cat_cols:\n",
    "    cat_data[col] = cat_data[col].astype('category')\n",
    "    cat_data[col + \"_var\"] = cat_data[col].cat.codes\n",
    "\n",
    "enc = OneHotEncoder()\n",
    "\n",
    "# Passing encoded columns\n",
    "enc_data = pd.DataFrame(enc.fit_transform(\n",
    "      cat_data[cat_columns]).toarray())\n",
    "\n",
    "enc_data.columns = enc.get_feature_names_out().tolist()\n",
    "\n",
    "final_one_hot_data = pd.concat([data_stand['y'],enc_data], axis = 1)\n",
    "final_one_hot_data = pd.concat([final_one_hot_data, num_data], axis = 1)\n"
   ]
  },
  {
   "cell_type": "markdown",
   "id": "7aebc7a5",
   "metadata": {},
   "source": [
    "Crosswalk between categorical variable indices and level names"
   ]
  },
  {
   "cell_type": "code",
   "execution_count": 17,
   "id": "e119253f",
   "metadata": {},
   "outputs": [
    {
     "name": "stdout",
     "output_type": "stream",
     "text": [
      "Index(['no', 'unknown', 'yes'], dtype='object')\n",
      "Index(['divorced', 'married', 'single', 'unknown'], dtype='object')\n",
      "Index(['basic.4y', 'basic.6y', 'basic.9y', 'high.school', 'illiterate',\n",
      "       'professional.course', 'university.degree', 'unknown'],\n",
      "      dtype='object')\n",
      "Index(['client NOT previously contacted', 'client WAS previously contacted'], dtype='object')\n",
      "Index(['failure', 'nonexistent', 'success'], dtype='object')\n",
      "Index(['cellular', 'telephone'], dtype='object')\n",
      "Index(['fri', 'mon', 'thu', 'tue', 'wed'], dtype='object')\n",
      "Index(['admin.', 'blue-collar', 'entrepreneur', 'housemaid', 'management',\n",
      "       'retired', 'self-employed', 'services', 'student', 'technician',\n",
      "       'unemployed', 'unknown'],\n",
      "      dtype='object')\n",
      "Index(['apr', 'aug', 'dec', 'jul', 'jun', 'mar', 'may', 'nov', 'oct', 'sep'], dtype='object')\n",
      "Index(['no', 'unknown', 'yes'], dtype='object')\n"
     ]
    }
   ],
   "source": [
    "for col in og_cat_cols:\n",
    "    print(cat_data[col].cat.categories)"
   ]
  },
  {
   "cell_type": "code",
   "execution_count": 18,
   "id": "37f3daca",
   "metadata": {},
   "outputs": [],
   "source": [
    "# train test split\n",
    "from sklearn.model_selection import train_test_split\n",
    "train_one_hot,test_one_hot = train_test_split(final_one_hot_data, test_size = 0.2, train_size = 0.8, random_state = 22)"
   ]
  },
  {
   "cell_type": "markdown",
   "id": "2970e41c",
   "metadata": {},
   "source": [
    "output one hot encoded data"
   ]
  },
  {
   "cell_type": "code",
   "execution_count": 19,
   "id": "1fc97736",
   "metadata": {},
   "outputs": [],
   "source": [
    "train_one_hot.to_csv('C:/Users/Chris Li/Documents/UC Davis/STA 208/Data/train_one_hot.csv')"
   ]
  },
  {
   "cell_type": "code",
   "execution_count": 20,
   "id": "ac649636",
   "metadata": {},
   "outputs": [],
   "source": [
    "test_one_hot.to_csv('C:/Users/Chris Li/Documents/UC Davis/STA 208/Data/test_one_hot.csv')"
   ]
  }
 ],
 "metadata": {
  "kernelspec": {
   "display_name": "Python 3 (ipykernel)",
   "language": "python",
   "name": "python3"
  },
  "language_info": {
   "codemirror_mode": {
    "name": "ipython",
    "version": 3
   },
   "file_extension": ".py",
   "mimetype": "text/x-python",
   "name": "python",
   "nbconvert_exporter": "python",
   "pygments_lexer": "ipython3",
   "version": "3.10.11"
  }
 },
 "nbformat": 4,
 "nbformat_minor": 5
}
