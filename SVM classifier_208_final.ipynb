{
 "cells": [
  {
   "cell_type": "code",
   "execution_count": 3,
   "id": "d5bbfa1a-e50e-4f81-a5bf-923735b4b5e5",
   "metadata": {},
   "outputs": [],
   "source": [
    "import numpy as np\n",
    "import pandas as pd\n",
    "\n",
    "from sklearn.svm import SVC\n",
    "from sklearn.metrics import roc_curve, roc_auc_score, confusion_matrix\n",
    "import matplotlib.pyplot as plt"
   ]
  },
  {
   "cell_type": "code",
   "execution_count": 5,
   "id": "f147c798-8288-4a9d-a26b-1276fb0a0872",
   "metadata": {},
   "outputs": [],
   "source": [
    "test = pd.read_csv('/Users/luyang/opt/STA208/final_proj/test.csv')\n",
    "train = pd.read_csv('/Users/luyang/opt/STA208/final_proj/train.csv')\n",
    "y_tr = train.y\n",
    "X_tr = train.drop('y', axis = 1)\n",
    "\n",
    "y_te = test.y\n",
    "X_te = test.drop('y', axis = 1)\n",
    "\n",
    "# Convert categorical labels to binary labels\n",
    "# 1 == yes\n",
    "y_tr_binary = np.where(y_tr == 'yes', 1, 0)\n",
    "y_te_binary = np.where(y_te == 'yes', 1, 0)\n",
    "#X_tr.head(3)"
   ]
  },
  {
   "cell_type": "markdown",
   "id": "8b6c4bf6",
   "metadata": {},
   "source": [
    "##### One hot encoded data"
   ]
  },
  {
   "cell_type": "code",
   "execution_count": 40,
   "id": "07939143-dd78-4b6a-8419-f0af4f539fc3",
   "metadata": {},
   "outputs": [
    {
     "data": {
      "text/plain": [
       "Index(['Unnamed: 0', 'Intercept', 'poutcome[T.nonexistent]',\n",
       "       'poutcome[T.success]', 'contact[T.telephone]', 'job[T.blue-collar]',\n",
       "       'job[T.entrepreneur]', 'job[T.housemaid]', 'job[T.management]',\n",
       "       'job[T.retired]', 'job[T.self-employed]', 'job[T.services]',\n",
       "       'job[T.student]', 'job[T.technician]', 'job[T.unemployed]',\n",
       "       'job[T.unknown]', 'loan[T.unknown]', 'loan[T.yes]',\n",
       "       'marital[T.married]', 'marital[T.single]', 'marital[T.unknown]',\n",
       "       'pdays[T.client WAS previously contacted]', 'month[T.aug]',\n",
       "       'month[T.dec]', 'month[T.jul]', 'month[T.jun]', 'month[T.mar]',\n",
       "       'month[T.may]', 'month[T.nov]', 'month[T.oct]', 'month[T.sep]',\n",
       "       'day_of_week[T.mon]', 'day_of_week[T.thu]', 'day_of_week[T.tue]',\n",
       "       'day_of_week[T.wed]', 'education[T.basic.6y]', 'education[T.basic.9y]',\n",
       "       'education[T.high.school]', 'education[T.illiterate]',\n",
       "       'education[T.professional.course]', 'education[T.university.degree]',\n",
       "       'education[T.unknown]', 'housing[T.unknown]', 'housing[T.yes]',\n",
       "       'cons_price_idx', 'previous', 'emp_var_rate', 'euribor3m',\n",
       "       'nr_employed', 'cons_conf_idx', 'age', 'campaign'],\n",
       "      dtype='object')"
      ]
     },
     "execution_count": 40,
     "metadata": {},
     "output_type": "execute_result"
    }
   ],
   "source": [
    "X_tr.columns"
   ]
  },
  {
   "cell_type": "markdown",
   "id": "5f1c1985-a616-4d34-bc77-f48c281b4e2c",
   "metadata": {},
   "source": [
    "### Logistic Regression"
   ]
  },
  {
   "cell_type": "markdown",
   "id": "2aa3148d-f5c1-43e7-9b4e-f997f0741866",
   "metadata": {},
   "source": [
    "https://towardsdatascience.com/building-a-logistic-regression-in-python-step-by-step-becd4d56c9c8"
   ]
  },
  {
   "cell_type": "code",
   "execution_count": 7,
   "id": "8991713f-9d98-4ad4-b5ca-91662fa9dc04",
   "metadata": {
    "collapsed": true,
    "jupyter": {
     "outputs_hidden": true
    },
    "tags": []
   },
   "outputs": [
    {
     "name": "stdout",
     "output_type": "stream",
     "text": [
      "Optimization terminated successfully.\n",
      "         Current function value: 0.273881\n",
      "         Iterations 7\n",
      "                           Logit Regression Results                           \n",
      "==============================================================================\n",
      "Dep. Variable:                      y   No. Observations:                32950\n",
      "Model:                          Logit   Df Residuals:                    32899\n",
      "Method:                           MLE   Df Model:                           50\n",
      "Date:                Mon, 29 May 2023   Pseudo R-squ.:                  0.2187\n",
      "Time:                        12:30:07   Log-Likelihood:                -9024.4\n",
      "converged:                       True   LL-Null:                       -11550.\n",
      "Covariance Type:            nonrobust   LLR p-value:                     0.000\n",
      "============================================================================================================\n",
      "                                               coef    std err          z      P>|z|      [0.025      0.975]\n",
      "------------------------------------------------------------------------------------------------------------\n",
      "Unnamed: 0                                4.668e-05   7.51e-06      6.220      0.000     3.2e-05    6.14e-05\n",
      "Intercept                                   -3.2460      0.307    -10.559      0.000      -3.849      -2.643\n",
      "poutcome[T.nonexistent]                      0.4313      0.092      4.713      0.000       0.252       0.611\n",
      "poutcome[T.success]                          0.6913      0.220      3.138      0.002       0.259       1.123\n",
      "contact[T.telephone]                        -0.6411      0.077     -8.372      0.000      -0.791      -0.491\n",
      "job[T.blue-collar]                          -0.1656      0.077     -2.144      0.032      -0.317      -0.014\n",
      "job[T.entrepreneur]                         -0.0912      0.123     -0.744      0.457      -0.331       0.149\n",
      "job[T.housemaid]                            -0.0599      0.154     -0.389      0.697      -0.361       0.241\n",
      "job[T.management]                           -0.0552      0.075     -0.732      0.464      -0.203       0.093\n",
      "job[T.retired]                               0.2178        nan        nan        nan         nan         nan\n",
      "job[T.self-employed]                        -0.1100      0.113     -0.977      0.329      -0.331       0.111\n",
      "job[T.services]                             -0.1720      0.084     -2.053      0.040      -0.336      -0.008\n",
      "job[T.student]                               0.1812      0.173      1.047      0.295      -0.158       0.521\n",
      "job[T.technician]                           -0.0313      0.070     -0.449      0.653      -0.168       0.105\n",
      "job[T.unemployed]                            0.0107      0.125      0.086      0.932      -0.234       0.255\n",
      "job[T.unknown]                              -0.2321      0.210     -1.106      0.269      -0.643       0.179\n",
      "loan[T.unknown]                             -0.0448   4.29e+17  -1.04e-19      1.000   -8.41e+17    8.41e+17\n",
      "loan[T.yes]                                 -0.0967      0.056     -1.721      0.085      -0.207       0.013\n",
      "marital[T.married]                           0.0254      0.066      0.383      0.701      -0.104       0.155\n",
      "marital[T.single]                            0.0692      0.067      1.039      0.299      -0.061       0.200\n",
      "marital[T.unknown]                           0.2383      0.459      0.520      0.603      -0.660       1.137\n",
      "pdays[T.client WAS previously contacted]     1.2065      0.225      5.360      0.000       0.765       1.648\n",
      "month[T.aug]                                 0.0609      0.145      0.419      0.675      -0.224       0.346\n",
      "month[T.dec]                                 0.1918      0.220      0.873      0.383      -0.239       0.623\n",
      "month[T.jul]                                -0.3491      0.119     -2.944      0.003      -0.582      -0.117\n",
      "month[T.jun]                                -1.1347      0.151     -7.500      0.000      -1.431      -0.838\n",
      "month[T.mar]                                 1.4564      0.147      9.899      0.000       1.168       1.745\n",
      "month[T.may]                                -0.4567      0.085     -5.358      0.000      -0.624      -0.290\n",
      "month[T.nov]                                -1.0442      0.159     -6.571      0.000      -1.356      -0.733\n",
      "month[T.oct]                                -0.4267      0.176     -2.425      0.015      -0.772      -0.082\n",
      "month[T.sep]                                -0.0930      0.189     -0.492      0.622      -0.463       0.277\n",
      "day_of_week[T.mon]                          -0.2419      0.065     -3.702      0.000      -0.370      -0.114\n",
      "day_of_week[T.thu]                           0.0289      0.062      0.465      0.642      -0.093       0.151\n",
      "day_of_week[T.tue]                           0.0383      0.064      0.596      0.551      -0.088       0.164\n",
      "day_of_week[T.wed]                           0.1792      0.063      2.841      0.004       0.056       0.303\n",
      "education[T.basic.6y]                        0.1370      0.117      1.168      0.243      -0.093       0.367\n",
      "education[T.basic.9y]                       -0.0730      0.090     -0.813      0.416      -0.249       0.103\n",
      "education[T.high.school]                     0.0633      0.096      0.662      0.508      -0.124       0.251\n",
      "education[T.illiterate]                      1.5120      0.668      2.263      0.024       0.203       2.821\n",
      "education[T.professional.course]             0.0717      0.093      0.771      0.441      -0.111       0.254\n",
      "education[T.university.degree]               0.1022      0.090      1.138      0.255      -0.074       0.278\n",
      "education[T.unknown]                         0.1565      0.118      1.325      0.185      -0.075       0.388\n",
      "housing[T.unknown]                          -0.0448   4.29e+17  -1.04e-19      1.000   -8.41e+17    8.41e+17\n",
      "housing[T.yes]                              -0.0151        nan        nan        nan         nan         nan\n",
      "cons_price_idx                               1.3987      0.139     10.037      0.000       1.126       1.672\n",
      "previous                                    -0.0314      0.032     -0.996      0.319      -0.093       0.030\n",
      "emp_var_rate                                -2.8765      0.228    -12.636      0.000      -3.323      -2.430\n",
      "euribor3m                                    1.1245      0.254      4.436      0.000       0.628       1.621\n",
      "nr_employed                                  0.6110      0.214      2.849      0.004       0.191       1.031\n",
      "cons_conf_idx                                0.1687      0.032      5.224      0.000       0.105       0.232\n",
      "age                                          0.0031   3.75e-10   8.17e+06      0.000       0.003       0.003\n",
      "campaign                                    -0.1036      0.028     -3.678      0.000      -0.159      -0.048\n",
      "============================================================================================================\n"
     ]
    }
   ],
   "source": [
    "import statsmodels.api as sm\n",
    "\n",
    "logit_model=sm.Logit(y_tr_binary, X_tr)\n",
    "result=logit_model.fit()\n",
    "print(result.summary())"
   ]
  },
  {
   "cell_type": "code",
   "execution_count": 8,
   "id": "a49a7594-bc30-4d15-95c6-b30669f3b2da",
   "metadata": {},
   "outputs": [
    {
     "data": {
      "text/html": [
       "<style>#sk-container-id-1 {color: black;background-color: white;}#sk-container-id-1 pre{padding: 0;}#sk-container-id-1 div.sk-toggleable {background-color: white;}#sk-container-id-1 label.sk-toggleable__label {cursor: pointer;display: block;width: 100%;margin-bottom: 0;padding: 0.3em;box-sizing: border-box;text-align: center;}#sk-container-id-1 label.sk-toggleable__label-arrow:before {content: \"▸\";float: left;margin-right: 0.25em;color: #696969;}#sk-container-id-1 label.sk-toggleable__label-arrow:hover:before {color: black;}#sk-container-id-1 div.sk-estimator:hover label.sk-toggleable__label-arrow:before {color: black;}#sk-container-id-1 div.sk-toggleable__content {max-height: 0;max-width: 0;overflow: hidden;text-align: left;background-color: #f0f8ff;}#sk-container-id-1 div.sk-toggleable__content pre {margin: 0.2em;color: black;border-radius: 0.25em;background-color: #f0f8ff;}#sk-container-id-1 input.sk-toggleable__control:checked~div.sk-toggleable__content {max-height: 200px;max-width: 100%;overflow: auto;}#sk-container-id-1 input.sk-toggleable__control:checked~label.sk-toggleable__label-arrow:before {content: \"▾\";}#sk-container-id-1 div.sk-estimator input.sk-toggleable__control:checked~label.sk-toggleable__label {background-color: #d4ebff;}#sk-container-id-1 div.sk-label input.sk-toggleable__control:checked~label.sk-toggleable__label {background-color: #d4ebff;}#sk-container-id-1 input.sk-hidden--visually {border: 0;clip: rect(1px 1px 1px 1px);clip: rect(1px, 1px, 1px, 1px);height: 1px;margin: -1px;overflow: hidden;padding: 0;position: absolute;width: 1px;}#sk-container-id-1 div.sk-estimator {font-family: monospace;background-color: #f0f8ff;border: 1px dotted black;border-radius: 0.25em;box-sizing: border-box;margin-bottom: 0.5em;}#sk-container-id-1 div.sk-estimator:hover {background-color: #d4ebff;}#sk-container-id-1 div.sk-parallel-item::after {content: \"\";width: 100%;border-bottom: 1px solid gray;flex-grow: 1;}#sk-container-id-1 div.sk-label:hover label.sk-toggleable__label {background-color: #d4ebff;}#sk-container-id-1 div.sk-serial::before {content: \"\";position: absolute;border-left: 1px solid gray;box-sizing: border-box;top: 0;bottom: 0;left: 50%;z-index: 0;}#sk-container-id-1 div.sk-serial {display: flex;flex-direction: column;align-items: center;background-color: white;padding-right: 0.2em;padding-left: 0.2em;position: relative;}#sk-container-id-1 div.sk-item {position: relative;z-index: 1;}#sk-container-id-1 div.sk-parallel {display: flex;align-items: stretch;justify-content: center;background-color: white;position: relative;}#sk-container-id-1 div.sk-item::before, #sk-container-id-1 div.sk-parallel-item::before {content: \"\";position: absolute;border-left: 1px solid gray;box-sizing: border-box;top: 0;bottom: 0;left: 50%;z-index: -1;}#sk-container-id-1 div.sk-parallel-item {display: flex;flex-direction: column;z-index: 1;position: relative;background-color: white;}#sk-container-id-1 div.sk-parallel-item:first-child::after {align-self: flex-end;width: 50%;}#sk-container-id-1 div.sk-parallel-item:last-child::after {align-self: flex-start;width: 50%;}#sk-container-id-1 div.sk-parallel-item:only-child::after {width: 0;}#sk-container-id-1 div.sk-dashed-wrapped {border: 1px dashed gray;margin: 0 0.4em 0.5em 0.4em;box-sizing: border-box;padding-bottom: 0.4em;background-color: white;}#sk-container-id-1 div.sk-label label {font-family: monospace;font-weight: bold;display: inline-block;line-height: 1.2em;}#sk-container-id-1 div.sk-label-container {text-align: center;}#sk-container-id-1 div.sk-container {/* jupyter's `normalize.less` sets `[hidden] { display: none; }` but bootstrap.min.css set `[hidden] { display: none !important; }` so we also need the `!important` here to be able to override the default hidden behavior on the sphinx rendered scikit-learn.org. See: https://github.com/scikit-learn/scikit-learn/issues/21755 */display: inline-block !important;position: relative;}#sk-container-id-1 div.sk-text-repr-fallback {display: none;}</style><div id=\"sk-container-id-1\" class=\"sk-top-container\"><div class=\"sk-text-repr-fallback\"><pre>RidgeClassifier()</pre><b>In a Jupyter environment, please rerun this cell to show the HTML representation or trust the notebook. <br />On GitHub, the HTML representation is unable to render, please try loading this page with nbviewer.org.</b></div><div class=\"sk-container\" hidden><div class=\"sk-item\"><div class=\"sk-estimator sk-toggleable\"><input class=\"sk-toggleable__control sk-hidden--visually\" id=\"sk-estimator-id-1\" type=\"checkbox\" checked><label for=\"sk-estimator-id-1\" class=\"sk-toggleable__label sk-toggleable__label-arrow\">RidgeClassifier</label><div class=\"sk-toggleable__content\"><pre>RidgeClassifier()</pre></div></div></div></div></div>"
      ],
      "text/plain": [
       "RidgeClassifier()"
      ]
     },
     "execution_count": 8,
     "metadata": {},
     "output_type": "execute_result"
    }
   ],
   "source": [
    "from sklearn.linear_model import RidgeClassifier\n",
    "\n",
    "ridge = RidgeClassifier(alpha=1.0)\n",
    "ridge.fit(X_tr, y_tr_binary)"
   ]
  },
  {
   "cell_type": "code",
   "execution_count": 10,
   "id": "d5b221a3-fe6b-4c6c-a979-a74275fda003",
   "metadata": {},
   "outputs": [
    {
     "name": "stdout",
     "output_type": "stream",
     "text": [
      "              precision    recall  f1-score   support\n",
      "\n",
      "           0       0.91      0.99      0.94      7286\n",
      "           1       0.67      0.22      0.33       952\n",
      "\n",
      "    accuracy                           0.90      8238\n",
      "   macro avg       0.79      0.60      0.64      8238\n",
      "weighted avg       0.88      0.90      0.87      8238\n",
      "\n"
     ]
    }
   ],
   "source": [
    "from sklearn.metrics import classification_report\n",
    "pred_te_r = ridge.predict(X_te)\n",
    "print(classification_report(y_te_binary,pred_te_r))"
   ]
  },
  {
   "cell_type": "markdown",
   "id": "b1e35fe6-2757-4cec-9b0e-a867657b95b2",
   "metadata": {},
   "source": [
    "### Fit a SVM Classifier"
   ]
  },
  {
   "cell_type": "markdown",
   "id": "d567c04c-9649-4d2e-9601-9d7a74cf6b10",
   "metadata": {},
   "source": [
    "column `y` is the response. consider others as predictors."
   ]
  },
  {
   "cell_type": "code",
   "execution_count": 7,
   "id": "1af2f179-f99a-43bd-8e27-e389e714ac2e",
   "metadata": {
    "collapsed": true,
    "jupyter": {
     "outputs_hidden": true
    },
    "tags": []
   },
   "outputs": [
    {
     "name": "stdout",
     "output_type": "stream",
     "text": [
      "<class 'pandas.core.frame.DataFrame'>\n",
      "RangeIndex: 32950 entries, 0 to 32949\n",
      "Data columns (total 53 columns):\n",
      " #   Column                                    Non-Null Count  Dtype  \n",
      "---  ------                                    --------------  -----  \n",
      " 0   Unnamed: 0                                32950 non-null  int64  \n",
      " 1   y                                         32950 non-null  object \n",
      " 2   Intercept                                 32950 non-null  float64\n",
      " 3   poutcome[T.nonexistent]                   32950 non-null  float64\n",
      " 4   poutcome[T.success]                       32950 non-null  float64\n",
      " 5   contact[T.telephone]                      32950 non-null  float64\n",
      " 6   job[T.blue-collar]                        32950 non-null  float64\n",
      " 7   job[T.entrepreneur]                       32950 non-null  float64\n",
      " 8   job[T.housemaid]                          32950 non-null  float64\n",
      " 9   job[T.management]                         32950 non-null  float64\n",
      " 10  job[T.retired]                            32950 non-null  float64\n",
      " 11  job[T.self-employed]                      32950 non-null  float64\n",
      " 12  job[T.services]                           32950 non-null  float64\n",
      " 13  job[T.student]                            32950 non-null  float64\n",
      " 14  job[T.technician]                         32950 non-null  float64\n",
      " 15  job[T.unemployed]                         32950 non-null  float64\n",
      " 16  job[T.unknown]                            32950 non-null  float64\n",
      " 17  loan[T.unknown]                           32950 non-null  float64\n",
      " 18  loan[T.yes]                               32950 non-null  float64\n",
      " 19  marital[T.married]                        32950 non-null  float64\n",
      " 20  marital[T.single]                         32950 non-null  float64\n",
      " 21  marital[T.unknown]                        32950 non-null  float64\n",
      " 22  pdays[T.client WAS previously contacted]  32950 non-null  float64\n",
      " 23  month[T.aug]                              32950 non-null  float64\n",
      " 24  month[T.dec]                              32950 non-null  float64\n",
      " 25  month[T.jul]                              32950 non-null  float64\n",
      " 26  month[T.jun]                              32950 non-null  float64\n",
      " 27  month[T.mar]                              32950 non-null  float64\n",
      " 28  month[T.may]                              32950 non-null  float64\n",
      " 29  month[T.nov]                              32950 non-null  float64\n",
      " 30  month[T.oct]                              32950 non-null  float64\n",
      " 31  month[T.sep]                              32950 non-null  float64\n",
      " 32  day_of_week[T.mon]                        32950 non-null  float64\n",
      " 33  day_of_week[T.thu]                        32950 non-null  float64\n",
      " 34  day_of_week[T.tue]                        32950 non-null  float64\n",
      " 35  day_of_week[T.wed]                        32950 non-null  float64\n",
      " 36  education[T.basic.6y]                     32950 non-null  float64\n",
      " 37  education[T.basic.9y]                     32950 non-null  float64\n",
      " 38  education[T.high.school]                  32950 non-null  float64\n",
      " 39  education[T.illiterate]                   32950 non-null  float64\n",
      " 40  education[T.professional.course]          32950 non-null  float64\n",
      " 41  education[T.university.degree]            32950 non-null  float64\n",
      " 42  education[T.unknown]                      32950 non-null  float64\n",
      " 43  housing[T.unknown]                        32950 non-null  float64\n",
      " 44  housing[T.yes]                            32950 non-null  float64\n",
      " 45  cons_price_idx                            32950 non-null  float64\n",
      " 46  previous                                  32950 non-null  float64\n",
      " 47  emp_var_rate                              32950 non-null  float64\n",
      " 48  euribor3m                                 32950 non-null  float64\n",
      " 49  nr_employed                               32950 non-null  float64\n",
      " 50  cons_conf_idx                             32950 non-null  float64\n",
      " 51  age                                       32950 non-null  float64\n",
      " 52  campaign                                  32950 non-null  float64\n",
      "dtypes: float64(51), int64(1), object(1)\n",
      "memory usage: 13.3+ MB\n"
     ]
    }
   ],
   "source": [
    "train.info()"
   ]
  },
  {
   "cell_type": "markdown",
   "id": "fe64921b-3ceb-4656-b5bb-26dd0746f519",
   "metadata": {},
   "source": [
    "https://medium.com/grabngoinfo/support-vector-machine-svm-hyperparameter-tuning-in-python-a65586289bcb"
   ]
  },
  {
   "cell_type": "markdown",
   "id": "20e7214a-3d5e-4ec8-9e42-0755a8634d0e",
   "metadata": {},
   "source": [
    "##### 1. RBF Kernel"
   ]
  },
  {
   "cell_type": "code",
   "execution_count": 22,
   "id": "eb997b6b-9f38-4529-a352-c6c5e404deb0",
   "metadata": {},
   "outputs": [
    {
     "data": {
      "image/png": "[encoded data removed]",
      "text/plain": [
       "<Figure size 432x288 with 1 Axes>"
      ]
     },
     "metadata": {
      "needs_background": "light"
     },
     "output_type": "display_data"
    },
    {
     "name": "stdout",
     "output_type": "stream",
     "text": [
      "AUC: 0.6447087138451317\n"
     ]
    }
   ],
   "source": [
    "\n",
    "\n",
    "# Fit the SVM classifier\n",
    "svm = SVC(probability=True)\n",
    "svm.fit(X_tr, y_tr_binary)\n",
    "\n",
    "# Obtain predicted probabilities\n",
    "probs = svm.predict_proba(X_te)[:, 1]\n",
    "\n",
    "# Calculate FPR and TPR\n",
    "fpr, tpr, thresholds = roc_curve(y_te_binary, probs)\n",
    "\n",
    "# Plot ROC curve\n",
    "plt.plot(fpr, tpr)\n",
    "plt.plot([0, 1], [0, 1], linestyle='--', color='gray')  # Diagonal line\n",
    "plt.xlabel('False Positive Rate')\n",
    "plt.ylabel('True Positive Rate')\n",
    "plt.title('ROC Curve')\n",
    "plt.show()\n",
    "\n",
    "# Calculate AUC\n",
    "auc = roc_auc_score(y_te_binary, probs)\n",
    "print('AUC:', auc)\n"
   ]
  },
  {
   "cell_type": "markdown",
   "id": "2faa67b4-4ec1-44b4-91fa-f49261b7e4ce",
   "metadata": {},
   "source": [
    "##### 2. Linaer Kernel ( a newer one is shown at the end of the code)"
   ]
  },
  {
   "cell_type": "code",
   "execution_count": null,
   "id": "51b96d1a-12fd-4b6b-bfee-1d83307cf9db",
   "metadata": {},
   "outputs": [],
   "source": [
    "# Fit the SVM classifier\n",
    "svm_l = SVC(probability=True, kernel = 'linear')\n",
    "svm_l.fit(X_tr, y_tr_binary)\n",
    "\n",
    "# Obtain predicted probabilities\n",
    "probs_l = svm_l.predict_proba(X_te)[:, 1]\n",
    "\n",
    "# Calculate FPR and TPR\n",
    "fpr, tpr, thresholds = roc_curve(y_te_binary, probs_l)\n",
    "\n",
    "# Plot ROC curve\n",
    "plt.plot(fpr, tpr)\n",
    "plt.plot([0, 1], [0, 1], linestyle='--', color='gray')  # Diagonal line\n",
    "plt.xlabel('False Positive Rate')\n",
    "plt.ylabel('True Positive Rate')\n",
    "plt.title('ROC Curve')\n",
    "plt.show()\n",
    "\n",
    "# Calculate AUC\n",
    "auc = roc_auc_score(y_te_binary, probs_l)\n",
    "print('AUC:', auc)"
   ]
  },
  {
   "cell_type": "code",
   "execution_count": null,
   "id": "1ffe9536-cb39-4cdf-871f-f131c84af528",
   "metadata": {},
   "outputs": [],
   "source": [
    "\n",
    "\n",
    "# Obtain predicted labels\n",
    "y_pred_l = svm_l.predict(X_te)\n",
    "\n",
    "# Create confusion matrix\n",
    "cm = confusion_matrix(y_te_binary, y_pred_l)\n",
    "\n",
    "# Print the confusion matrix\n",
    "print('Confusion Matrix:')\n",
    "print(cm)\n"
   ]
  },
  {
   "cell_type": "markdown",
   "id": "5aebc7a7-99e9-4faa-96cb-ab764fce3619",
   "metadata": {},
   "source": [
    "##### 3. Polynomial Kernel"
   ]
  },
  {
   "cell_type": "code",
   "execution_count": 26,
   "id": "e23d0e21-f65a-48b9-bc4c-78cf57dbccab",
   "metadata": {
    "jupyter": {
     "outputs_hidden": true,
     "source_hidden": true
    },
    "tags": []
   },
   "outputs": [
    {
     "data": {
      "image/png": "[encoded data removed]",
      "text/plain": [
       "<Figure size 432x288 with 1 Axes>"
      ]
     },
     "metadata": {
      "needs_background": "light"
     },
     "output_type": "display_data"
    },
    {
     "name": "stdout",
     "output_type": "stream",
     "text": [
      "AUC: 0.34793358737950303\n"
     ]
    }
   ],
   "source": [
    "# Fit the SVM classifier\n",
    "svm_p = SVC(probability=True, kernel = 'poly')\n",
    "svm_p.fit(X_tr, y_tr_binary)\n",
    "\n",
    "# Obtain predicted probabilities\n",
    "probs_p = svm_p.predict_proba(X_te)[:, 1]\n",
    "\n",
    "# Calculate FPR and TPR\n",
    "fpr, tpr, thresholds = roc_curve(y_te_binary, probs_p)\n",
    "\n",
    "# Plot ROC curve\n",
    "plt.plot(fpr, tpr)\n",
    "plt.plot([0, 1], [0, 1], linestyle='--', color='gray')  # Diagonal line\n",
    "plt.xlabel('False Positive Rate')\n",
    "plt.ylabel('True Positive Rate')\n",
    "plt.title('ROC Curve')\n",
    "plt.show()\n",
    "\n",
    "# Calculate AUC\n",
    "auc = roc_auc_score(y_te_binary, probs_p)\n",
    "print('AUC:', auc)"
   ]
  },
  {
   "cell_type": "markdown",
   "id": "efb4eb3d-f4cf-4afc-b424-1fab6ee52d79",
   "metadata": {},
   "source": [
    "##### 4. Sigmoid Kernel"
   ]
  },
  {
   "cell_type": "code",
   "execution_count": 27,
   "id": "d4464369-7533-4d9d-a2c4-6176aca4eaf4",
   "metadata": {
    "jupyter": {
     "outputs_hidden": true,
     "source_hidden": true
    },
    "tags": []
   },
   "outputs": [
    {
     "data": {
      "image/png": "[encoded data removed]",
      "text/plain": [
       "<Figure size 432x288 with 1 Axes>"
      ]
     },
     "metadata": {
      "needs_background": "light"
     },
     "output_type": "display_data"
    },
    {
     "name": "stdout",
     "output_type": "stream",
     "text": [
      "AUC: 0.34793358737950303\n"
     ]
    }
   ],
   "source": [
    "# Fit the SVM classifier\n",
    "svm_s = SVC(probability=True, kernel = 'sigmoid')\n",
    "svm_s.fit(X_tr, y_tr_binary)\n",
    "\n",
    "# Obtain predicted probabilities\n",
    "probs_s = svm_p.predict_proba(X_te)[:, 1]\n",
    "\n",
    "# Calculate FPR and TPR\n",
    "fpr, tpr, thresholds = roc_curve(y_te_binary, probs_s)\n",
    "\n",
    "# Plot ROC curve\n",
    "plt.plot(fpr, tpr)\n",
    "plt.plot([0, 1], [0, 1], linestyle='--', color='gray')  # Diagonal line\n",
    "plt.xlabel('False Positive Rate')\n",
    "plt.ylabel('True Positive Rate')\n",
    "plt.title('ROC Curve')\n",
    "plt.show()\n",
    "\n",
    "# Calculate AUC\n",
    "auc = roc_auc_score(y_te_binary, probs_s)\n",
    "print('AUC:', auc)"
   ]
  },
  {
   "cell_type": "code",
   "execution_count": null,
   "id": "364a42af-c080-4b79-b17c-e2c142284361",
   "metadata": {},
   "outputs": [],
   "source": [
    "# Fit the SVM classifier\n",
    "svm_l = SVC(probability=True, kernel = 'linear', C= 2.0)\n",
    "svm_l.fit(X_tr, y_tr_binary)\n",
    "\n",
    "# Obtain predicted probabilities\n",
    "probs_l = svm_l.predict_proba(X_te)[:, 1]\n",
    "\n",
    "# Calculate FPR and TPR\n",
    "fpr, tpr, thresholds = roc_curve(y_te_binary, probs_l)\n",
    "\n",
    "# Plot ROC curve\n",
    "plt.plot(fpr, tpr)\n",
    "plt.plot([0, 1], [0, 1], linestyle='--', color='gray')  # Diagonal line\n",
    "plt.xlabel('False Positive Rate')\n",
    "plt.ylabel('True Positive Rate')\n",
    "plt.title('ROC Curve')\n",
    "plt.show()\n",
    "\n",
    "# Calculate AUC\n",
    "auc = roc_auc_score(y_te_binary, probs_l)\n",
    "print('AUC:', auc)"
   ]
  },
  {
   "cell_type": "markdown",
   "id": "a2650c3f-6ba9-4e00-979a-003f68aa1e6a",
   "metadata": {},
   "source": [
    "#### Reduced Data\n",
    "Remove predictors with jobs because jobs are not significant according to logistic regression. We are going to try if removing these can increase accuracy."
   ]
  },
  {
   "cell_type": "code",
   "execution_count": 6,
   "id": "a74e73f1-068c-4b41-9208-c6cc03e263da",
   "metadata": {},
   "outputs": [],
   "source": [
    "col_rm = [col for col in X_tr.columns if 'job' in col]\n",
    "\n",
    "# Remove the columns\n",
    "X_tr_filtered = X_tr.drop(columns=col_rm)\n",
    "X_te_filtered = X_te.drop(columns=col_rm)"
   ]
  },
  {
   "cell_type": "code",
   "execution_count": 12,
   "id": "716b2ecc-3c6e-4927-b5e9-30a974ebb783",
   "metadata": {
    "jupyter": {
     "outputs_hidden": true
    },
    "scrolled": false,
    "tags": []
   },
   "outputs": [
    {
     "ename": "NameError",
     "evalue": "name 'svm_l' is not defined",
     "output_type": "error",
     "traceback": [
      "\u001b[0;31m---------------------------------------------------------------------------\u001b[0m",
      "\u001b[0;31mNameError\u001b[0m                                 Traceback (most recent call last)",
      "Cell \u001b[0;32mIn[12], line 6\u001b[0m\n\u001b[1;32m      3\u001b[0m svm_l2\u001b[38;5;241m.\u001b[39mfit(X_tr_filtered, y_tr_binary)\n\u001b[1;32m      5\u001b[0m \u001b[38;5;66;03m# Obtain predicted probabilities\u001b[39;00m\n\u001b[0;32m----> 6\u001b[0m probs_l2 \u001b[38;5;241m=\u001b[39m \u001b[43msvm_l\u001b[49m\u001b[38;5;241m.\u001b[39mpredict_proba(X_tr_filtered)[:, \u001b[38;5;241m1\u001b[39m]\n\u001b[1;32m      8\u001b[0m \u001b[38;5;66;03m# Calculate FPR and TPR\u001b[39;00m\n\u001b[1;32m      9\u001b[0m fpr, tpr, thresholds \u001b[38;5;241m=\u001b[39m roc_curve(y_te_binary, probs_l2)\n",
      "\u001b[0;31mNameError\u001b[0m: name 'svm_l' is not defined"
     ]
    }
   ],
   "source": []
  },
  {
   "cell_type": "code",
   "execution_count": 31,
   "id": "2120d3fd-11fb-4194-a91f-630eb96d65b6",
   "metadata": {},
   "outputs": [
    {
     "data": {
      "image/png": "[encoded data removed]",
      "text/plain": [
       "<Figure size 432x288 with 1 Axes>"
      ]
     },
     "metadata": {
      "needs_background": "light"
     },
     "output_type": "display_data"
    },
    {
     "name": "stdout",
     "output_type": "stream",
     "text": [
      "AUC: 0.7549590039144947\n"
     ]
    }
   ],
   "source": [
    "# Fit the SVM classifier\n",
    "svm_l2 = SVC(probability=True, kernel = 'linear')\n",
    "svm_l2.fit(X_tr_filtered, y_tr_binary)\n",
    "\n",
    "probs_l2 = svm_l2.predict_proba(X_te_filtered)[:, 1]\n",
    "\n",
    "# Calculate FPR and TPR\n",
    "fpr, tpr, thresholds = roc_curve(y_te_binary, probs_l2)\n",
    "\n",
    "# Plot ROC curve\n",
    "plt.plot(fpr, tpr)\n",
    "plt.plot([0, 1], [0, 1], linestyle='--', color='gray') \n",
    "plt.xlabel('False Positive Rate')\n",
    "plt.ylabel('True Positive Rate')\n",
    "plt.title('ROC Curve for Test (Jobs excluded)')\n",
    "plt.show()\n",
    "\n",
    "# Calculate AUC\n",
    "auc = roc_auc_score(y_te_binary, probs_l2)\n",
    "print('AUC:', auc)"
   ]
  },
  {
   "cell_type": "code",
   "execution_count": 30,
   "id": "68e82e6d-1173-4551-ae5a-ffa989c4d927",
   "metadata": {},
   "outputs": [
    {
     "data": {
      "image/png": "[encoded data removed]",
      "text/plain": [
       "<Figure size 432x288 with 1 Axes>"
      ]
     },
     "metadata": {
      "needs_background": "light"
     },
     "output_type": "display_data"
    },
    {
     "name": "stdout",
     "output_type": "stream",
     "text": [
      "AUC: 0.760102780941901\n"
     ]
    }
   ],
   "source": [
    "probs_l2_train = svm_l2.predict_proba(X_tr_filtered)[:, 1]\n",
    "\n",
    "# Calculate FPR and TPR\n",
    "fpr_tr, tpr_tr, thresholds_tr = roc_curve(y_tr_binary, probs_l2_train)\n",
    "\n",
    "# Plot ROC curve\n",
    "plt.plot(fpr_tr, tpr_tr)\n",
    "plt.plot([0, 1], [0, 1], linestyle='--', color='gray')  \n",
    "plt.xlabel('False Positive Rate')\n",
    "plt.ylabel('True Positive Rate')\n",
    "plt.title('ROC Curve')\n",
    "plt.show()\n",
    "\n",
    "# Calculate AUC\n",
    "auc_tr = roc_auc_score(y_tr_binary, probs_l2_train)\n",
    "print('AUC:', auc_tr)"
   ]
  },
  {
   "cell_type": "code",
   "execution_count": 33,
   "id": "f402628c-fa87-4334-a9a7-eebc5d16a144",
   "metadata": {},
   "outputs": [
    {
     "data": {
      "text/plain": [
       "0.04613505541840638"
      ]
     },
     "execution_count": 33,
     "metadata": {},
     "output_type": "execute_result"
    }
   ],
   "source": [
    "best_threshold_idx_tr = np.argmax(tpr_tr - fpr_tr)\n",
    "best_threshold_tr = thresholds_tr[best_threshold_idx_tr]\n",
    "best_threshold_tr"
   ]
  },
  {
   "cell_type": "code",
   "execution_count": 37,
   "id": "611a7c28-593c-411f-bdb5-2ec8c118dda8",
   "metadata": {},
   "outputs": [],
   "source": [
    "y_hat = np.where(probs_l2_train >= best_threshold_tr, 1, 0)"
   ]
  },
  {
   "cell_type": "code",
   "execution_count": 42,
   "id": "ccc11728-c811-4aa3-9632-85f0393b4b76",
   "metadata": {},
   "outputs": [
    {
     "name": "stdout",
     "output_type": "stream",
     "text": [
      "[[20402  8860]\n",
      " [ 1007  2681]]\n"
     ]
    }
   ],
   "source": [
    "print(confusion_matrix(y_tr_binary, y_hat))"
   ]
  },
  {
   "cell_type": "code",
   "execution_count": 44,
   "id": "8571e75a-39ac-4b27-af0d-7b59c8d14c19",
   "metadata": {},
   "outputs": [
    {
     "name": "stdout",
     "output_type": "stream",
     "text": [
      "              precision    recall  f1-score   support\n",
      "\n",
      "           0       0.95      0.70      0.81     29262\n",
      "           1       0.23      0.73      0.35      3688\n",
      "\n",
      "    accuracy                           0.70     32950\n",
      "   macro avg       0.59      0.71      0.58     32950\n",
      "weighted avg       0.87      0.70      0.75     32950\n",
      "\n"
     ]
    }
   ],
   "source": [
    "print(classification_report(y_tr_binary, y_hat))"
   ]
  },
  {
   "cell_type": "code",
   "execution_count": 49,
   "id": "fd6ec989-7e1e-4cb6-9fd0-714e1fc9b551",
   "metadata": {},
   "outputs": [],
   "source": [
    "p_pred = svm_l2.predict(X_te_filtered)"
   ]
  },
  {
   "cell_type": "code",
   "execution_count": 51,
   "id": "cd17bd33-9129-481a-a230-bbbd3bf0c5f7",
   "metadata": {},
   "outputs": [
    {
     "data": {
      "text/plain": [
       "0.8866229667394999"
      ]
     },
     "execution_count": 51,
     "metadata": {},
     "output_type": "execute_result"
    }
   ],
   "source": [
    "# accuracy for test data\n",
    "from sklearn.metrics import accuracy_score\n",
    "accuracy_score(y_te_binary, p_pred)"
   ]
  }
 ],
 "metadata": {
  "kernelspec": {
   "display_name": "Python 3",
   "language": "python",
   "name": "python3"
  },
  "language_info": {
   "codemirror_mode": {
    "name": "ipython",
    "version": 3
   },
   "file_extension": ".py",
   "mimetype": "text/x-python",
   "name": "python",
   "nbconvert_exporter": "python",
   "pygments_lexer": "ipython3",
   "version": "3.9.16"
  }
 },
 "nbformat": 4,
 "nbformat_minor": 5
}
